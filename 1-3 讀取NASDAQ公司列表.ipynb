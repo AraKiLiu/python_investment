{
 "cells": [
  {
   "cell_type": "markdown",
   "metadata": {
    "colab_type": "text",
    "id": "Ti0vOHImH7sA"
   },
   "source": [
    "# 讀取NASDAQ公司列表\n",
    "\n",
    "相關網址：\n",
    "\n",
    "* http://www.nasdaqtrader.com/trader.aspx?id=symboldirdefs\n",
    "* ftp://ftp.nasdaqtrader.com/symboldirectory/\n",
    "* https://stackoverflow.com/questions/25338608/download-all-stock-symbol-list-of-a-market\n",
    "* https://quant.stackexchange.com/questions/1640/where-to-download-list-of-all-common-stocks-traded-on-nyse-nasdaq-and-amex"
   ]
  },
  {
   "cell_type": "code",
   "execution_count": null,
   "metadata": {
    "colab": {},
    "colab_type": "code",
    "id": "NOGrK40sGM7L"
   },
   "outputs": [],
   "source": [
    "import pandas as pd"
   ]
  },
  {
   "cell_type": "code",
   "execution_count": null,
   "metadata": {
    "colab": {},
    "colab_type": "code",
    "id": "Gzdr53fSGWuw"
   },
   "outputs": [],
   "source": [
    "url = \"ftp://ftp.nasdaqtrader.com/symboldirectory/nasdaqlisted.txt\""
   ]
  },
  {
   "cell_type": "code",
   "execution_count": null,
   "metadata": {
    "colab": {},
    "colab_type": "code",
    "id": "laFXdFuEGPJq"
   },
   "outputs": [],
   "source": [
    "df = pd.read_csv(url,delimiter='|')"
   ]
  },
  {
   "cell_type": "code",
   "execution_count": null,
   "metadata": {
    "colab": {
     "base_uri": "https://localhost:8080/",
     "height": 392
    },
    "colab_type": "code",
    "executionInfo": {
     "elapsed": 720,
     "status": "ok",
     "timestamp": 1577949241410,
     "user": {
      "displayName": "Victor Gau",
      "photoUrl": "",
      "userId": "04857945167242659035"
     },
     "user_tz": -480
    },
    "id": "eQ9y73TlGowQ",
    "outputId": "c5ba0e02-7695-4d80-86d7-4febbe6db81f"
   },
   "outputs": [],
   "source": [
    "df.head()"
   ]
  }
 ],
 "metadata": {
  "colab": {
   "collapsed_sections": [],
   "name": "讀取NASDAQ公司列表.ipynb",
   "provenance": []
  },
  "kernelspec": {
   "display_name": "Python 3",
   "language": "python",
   "name": "python3"
  },
  "language_info": {
   "codemirror_mode": {
    "name": "ipython",
    "version": 3
   },
   "file_extension": ".py",
   "mimetype": "text/x-python",
   "name": "python",
   "nbconvert_exporter": "python",
   "pygments_lexer": "ipython3",
   "version": "3.7.1"
  }
 },
 "nbformat": 4,
 "nbformat_minor": 2
}
