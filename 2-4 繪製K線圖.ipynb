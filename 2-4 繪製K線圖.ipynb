{
 "cells": [
  {
   "cell_type": "markdown",
   "metadata": {},
   "source": [
    "# 繪製K線圖\n",
    "\n",
    "參考連結：\n",
    "\n",
    "* https://github.com/matplotlib/mplfinance\n",
    "* https://github.com/victorgau/kchart"
   ]
  },
  {
   "cell_type": "code",
   "execution_count": null,
   "metadata": {},
   "outputs": [],
   "source": [
    "%matplotlib inline\n",
    "import pandas as pd\n",
    "import pandas_datareader.data as web\n",
    "import kchart"
   ]
  },
  {
   "cell_type": "code",
   "execution_count": null,
   "metadata": {},
   "outputs": [],
   "source": [
    "pd.options.mode.chained_assignment = None # Turn off warning"
   ]
  },
  {
   "cell_type": "code",
   "execution_count": null,
   "metadata": {},
   "outputs": [],
   "source": [
    "# 讀取從指定日期之後的股價資訊\n",
    "df = web.DataReader(\"2330.tw\", 'yahoo', \"2017-01-01\", \"2017-12-31\")"
   ]
  },
  {
   "cell_type": "markdown",
   "metadata": {},
   "source": [
    "## 畫出均線"
   ]
  },
  {
   "cell_type": "code",
   "execution_count": null,
   "metadata": {},
   "outputs": [],
   "source": [
    "# 計算均線\n",
    "df['20d'] = pd.Series.rolling(df['Close'], window=20).mean()\n",
    "df['60d'] = pd.Series.rolling(df['Close'], window=60).mean()"
   ]
  },
  {
   "cell_type": "code",
   "execution_count": null,
   "metadata": {},
   "outputs": [],
   "source": [
    "df.info()"
   ]
  },
  {
   "cell_type": "code",
   "execution_count": null,
   "metadata": {},
   "outputs": [],
   "source": [
    "kchart.draw(df.tail(100), title='台積電', price=('20d', '60d'), colorup=\"r\", colordown=\"g\", figsize=(12,8), fontname=\"SourceHanSansTC-Regular.otf\")"
   ]
  },
  {
   "cell_type": "markdown",
   "metadata": {},
   "source": [
    "## 畫出道前通道"
   ]
  },
  {
   "cell_type": "code",
   "execution_count": null,
   "metadata": {},
   "outputs": [],
   "source": [
    "# 讀取從指定日期之後的股價資訊\n",
    "df = web.DataReader(\"TSLA\", 'yahoo', \"2017-01-01\", \"2017-12-31\")"
   ]
  },
  {
   "cell_type": "code",
   "execution_count": null,
   "metadata": {},
   "outputs": [],
   "source": [
    "# Donchian Channel\n",
    "df['20d_high'] = pd.Series.rolling(df['Close'], window=20).max()\n",
    "df['10d_low'] = pd.Series.rolling(df['Close'], window=10).min()"
   ]
  },
  {
   "cell_type": "code",
   "execution_count": null,
   "metadata": {},
   "outputs": [],
   "source": [
    "kchart.draw(df[-200:], title='TSLA', price=('20d_high', '10d_low'), figsize=(12,8), save=True)"
   ]
  }
 ],
 "metadata": {
  "kernelspec": {
   "display_name": "Python 3",
   "language": "python",
   "name": "python3"
  },
  "language_info": {
   "codemirror_mode": {
    "name": "ipython",
    "version": 3
   },
   "file_extension": ".py",
   "mimetype": "text/x-python",
   "name": "python",
   "nbconvert_exporter": "python",
   "pygments_lexer": "ipython3",
   "version": "3.7.1"
  }
 },
 "nbformat": 4,
 "nbformat_minor": 2
}
