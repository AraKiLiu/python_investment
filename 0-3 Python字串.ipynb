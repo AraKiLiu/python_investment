{
  "nbformat": 4,
  "nbformat_minor": 0,
  "metadata": {
    "anaconda-cloud": {},
    "kernelspec": {
      "display_name": "Python 3",
      "language": "python",
      "name": "python3"
    },
    "language_info": {
      "codemirror_mode": {
        "name": "ipython",
        "version": 3
      },
      "file_extension": ".py",
      "mimetype": "text/x-python",
      "name": "python",
      "nbconvert_exporter": "python",
      "pygments_lexer": "ipython3",
      "version": "3.7.1"
    },
    "livereveal": {
      "scroll": true
    },
    "nbpresent": {
      "slides": {},
      "themes": {
        "default": "56b38c57-4ffe-478a-9f92-8ca64a17c67c",
        "theme": {
          "56b38c57-4ffe-478a-9f92-8ca64a17c67c": {
            "id": "56b38c57-4ffe-478a-9f92-8ca64a17c67c",
            "palette": {
              "19cc588f-0593-49c9-9f4b-e4d7cc113b1c": {
                "id": "19cc588f-0593-49c9-9f4b-e4d7cc113b1c",
                "rgb": [
                  252,
                  252,
                  252
                ]
              },
              "31af15d2-7e15-44c5-ab5e-e04b16a89eff": {
                "id": "31af15d2-7e15-44c5-ab5e-e04b16a89eff",
                "rgb": [
                  68,
                  68,
                  68
                ]
              },
              "50f92c45-a630-455b-aec3-788680ec7410": {
                "id": "50f92c45-a630-455b-aec3-788680ec7410",
                "rgb": [
                  155,
                  177,
                  192
                ]
              },
              "c5cc3653-2ee1-402a-aba2-7caae1da4f6c": {
                "id": "c5cc3653-2ee1-402a-aba2-7caae1da4f6c",
                "rgb": [
                  43,
                  126,
                  184
                ]
              },
              "efa7f048-9acb-414c-8b04-a26811511a21": {
                "id": "efa7f048-9acb-414c-8b04-a26811511a21",
                "rgb": [
                  25.118061674008803,
                  73.60176211453744,
                  107.4819383259912
                ]
              }
            },
            "rules": {
              "blockquote": {
                "color": "50f92c45-a630-455b-aec3-788680ec7410"
              },
              "code": {
                "font-family": "Anonymous Pro"
              },
              "h1": {
                "color": "c5cc3653-2ee1-402a-aba2-7caae1da4f6c",
                "font-family": "Lato",
                "font-size": 8
              },
              "h2": {
                "color": "c5cc3653-2ee1-402a-aba2-7caae1da4f6c",
                "font-family": "Lato",
                "font-size": 6
              },
              "h3": {
                "color": "50f92c45-a630-455b-aec3-788680ec7410",
                "font-family": "Lato",
                "font-size": 5.5
              },
              "h4": {
                "color": "c5cc3653-2ee1-402a-aba2-7caae1da4f6c",
                "font-family": "Lato",
                "font-size": 5
              },
              "h5": {
                "font-family": "Lato"
              },
              "h6": {
                "font-family": "Lato"
              },
              "h7": {
                "font-family": "Lato"
              },
              "pre": {
                "font-family": "Anonymous Pro",
                "font-size": 4
              }
            },
            "text-base": {
              "font-family": "Merriweather",
              "font-size": 4
            }
          }
        }
      }
    },
    "colab": {
      "name": "Python 字串.ipynb",
      "provenance": [],
      "collapsed_sections": [
        "dkj0j-q3Uhl5",
        "xk9hnTP3Uhl-",
        "Aan4PahTUhmR",
        "JZ8j8vp5UhmS",
        "VbniJHrlUhmn",
        "6E9UFge2Uhmp",
        "sDXM5pF0Uhmu",
        "UMK8A5wcUhnW",
        "-H_0auWMUhnX",
        "Dz6F-O2wUhna"
      ],
      "toc_visible": true
    }
  },
  "cells": [
    {
      "cell_type": "markdown",
      "metadata": {
        "id": "v9VllMUyUhld",
        "colab_type": "text"
      },
      "source": [
        "# Python 的字串"
      ]
    },
    {
      "cell_type": "markdown",
      "metadata": {
        "id": "bSJTYMJyUhlg",
        "colab_type": "text"
      },
      "source": [
        "## 資料型態\n",
        "* 數值 number\n",
        "     - 整數 integer (int)\n",
        "     - 浮點數 float\n",
        "     - <font color=\"red\">布林 boolean (bool)</font>\n",
        "     - 複數 (complex)\n",
        "* 字串 string (str)\n",
        "* None"
      ]
    },
    {
      "cell_type": "markdown",
      "metadata": {
        "id": "ntikLhVwUhlg",
        "colab_type": "text"
      },
      "source": [
        "可以使用 [Visualize Python](http://www.pythontutor.com/visualize.html) 來觀察變數跟記憶體的使用！"
      ]
    },
    {
      "cell_type": "markdown",
      "metadata": {
        "id": "y0mEIZMVUhlh",
        "colab_type": "text"
      },
      "source": [
        "---"
      ]
    },
    {
      "cell_type": "markdown",
      "metadata": {
        "id": "fMTmftdGUhli",
        "colab_type": "text"
      },
      "source": [
        "# 字串 (string)"
      ]
    },
    {
      "cell_type": "markdown",
      "metadata": {
        "id": "OyeibefuUhlj",
        "colab_type": "text"
      },
      "source": [
        "### 字串相加"
      ]
    },
    {
      "cell_type": "code",
      "metadata": {
        "id": "cOYn-petUhll",
        "colab_type": "code",
        "colab": {}
      },
      "source": [
        "A = \"AAA\""
      ],
      "execution_count": 0,
      "outputs": []
    },
    {
      "cell_type": "code",
      "metadata": {
        "id": "5oPMteOmUhlo",
        "colab_type": "code",
        "colab": {}
      },
      "source": [
        "B = \"BBB\""
      ],
      "execution_count": 0,
      "outputs": []
    },
    {
      "cell_type": "code",
      "metadata": {
        "id": "4cwXNPXTUhlq",
        "colab_type": "code",
        "colab": {}
      },
      "source": [
        "A + B"
      ],
      "execution_count": 0,
      "outputs": []
    },
    {
      "cell_type": "code",
      "metadata": {
        "id": "gkhm4vYXUhlt",
        "colab_type": "code",
        "colab": {}
      },
      "source": [
        "n = 2330"
      ],
      "execution_count": 0,
      "outputs": []
    },
    {
      "cell_type": "code",
      "metadata": {
        "id": "ZXVczTyQUhlv",
        "colab_type": "code",
        "colab": {}
      },
      "source": [
        "stock_no = 2330 + \".tw\""
      ],
      "execution_count": 0,
      "outputs": []
    },
    {
      "cell_type": "markdown",
      "metadata": {
        "id": "hRif0sVTUhlx",
        "colab_type": "text"
      },
      "source": [
        "### 字串相乘"
      ]
    },
    {
      "cell_type": "code",
      "metadata": {
        "id": "nUTW3Xv8Uhly",
        "colab_type": "code",
        "colab": {}
      },
      "source": [
        "x = \"*\""
      ],
      "execution_count": 0,
      "outputs": []
    },
    {
      "cell_type": "code",
      "metadata": {
        "id": "0BNp1t1SUhl1",
        "colab_type": "code",
        "colab": {}
      },
      "source": [
        "x * 10"
      ],
      "execution_count": 0,
      "outputs": []
    },
    {
      "cell_type": "markdown",
      "metadata": {
        "id": "dkj0j-q3Uhl5",
        "colab_type": "text"
      },
      "source": [
        "### [跳脫字元](https://docs.python.org/3/reference/lexical_analysis.html)\n",
        "\n",
        "|Escape Sequence|說明|\n",
        "|:-|:-|\n",
        "|\\newline|接在字串最後的反斜線(\\\\)會被省略|\n",
        "|\\\\\\ |反斜線(\\)|\n",
        "|\\\\'|單引號(')|\n",
        "|\\\\\"|雙引號(\")|\n",
        "|\\a|ASCII Bell (BEL)| \n",
        "|\\b|ASCII Backspace (BS)| \n",
        "|\\f|ASCII Formfeed (FF)|\n",
        "|\\n|ASCII Linefeed (LF)| \n",
        "|\\r|ASCII Carriage Return (CR)| \n",
        "|\\t|ASCII Horizontal Tab (TAB)| \n",
        "|\\v|ASCII Vertical Tab (VT)|\n",
        "|\\ooo|Character with octal value ooo|\n",
        "|\\xhh|Character with hex value hh|\n",
        "|\\N{name}|Character named name in the Unicode database|\n",
        "|\\uxxxx|Character with 16-bit hex value xxxx|\n",
        "|\\Uxxxxxxxx|Character with 32-bit hex value xxxxxxxx|"
      ]
    },
    {
      "cell_type": "code",
      "metadata": {
        "id": "-7H8Ub0HUhl6",
        "colab_type": "code",
        "colab": {}
      },
      "source": [
        "print(oct(ord('a')))"
      ],
      "execution_count": 0,
      "outputs": []
    },
    {
      "cell_type": "code",
      "metadata": {
        "id": "R-SDnwZgUhl8",
        "colab_type": "code",
        "colab": {}
      },
      "source": [
        "print(\"\\141\")"
      ],
      "execution_count": 0,
      "outputs": []
    },
    {
      "cell_type": "markdown",
      "metadata": {
        "id": "xk9hnTP3Uhl-",
        "colab_type": "text"
      },
      "source": [
        "### Indexing 及 Slicing\n",
        "\n",
        "字串可被當成一串字元的組合，從而很容易地使用索引及切片來讀取字串的內容。\n",
        "\n",
        "|字串內容|'A'|'B'|'C'|'D'|'E'|'F'|'G'|'H'|'I'|'J'|\n",
        "|:-:|:-:|:-:|:-:|:-:|:-:|:-:|:-:|:-:|:-:|:-:|\n",
        "|正向索引|0|1|2|3|4|5|6|7|8|9|\n",
        "|反向索引|-10|-9|-8|-7|-6|-5|-4|-3|-2|-1|"
      ]
    },
    {
      "cell_type": "code",
      "metadata": {
        "id": "Tlm3AjWaUhl_",
        "colab_type": "code",
        "colab": {}
      },
      "source": [
        "X = 'ABCDEFGHIJ'"
      ],
      "execution_count": 0,
      "outputs": []
    },
    {
      "cell_type": "code",
      "metadata": {
        "id": "_2hdZpIkUhmB",
        "colab_type": "code",
        "colab": {}
      },
      "source": [
        "X[1:4]"
      ],
      "execution_count": 0,
      "outputs": []
    },
    {
      "cell_type": "code",
      "metadata": {
        "id": "jXHjLEqKUhmE",
        "colab_type": "code",
        "colab": {}
      },
      "source": [
        "X[5]"
      ],
      "execution_count": 0,
      "outputs": []
    },
    {
      "cell_type": "code",
      "metadata": {
        "id": "k9FN4yY9UhmG",
        "colab_type": "code",
        "colab": {}
      },
      "source": [
        "X[3]"
      ],
      "execution_count": 0,
      "outputs": []
    },
    {
      "cell_type": "code",
      "metadata": {
        "id": "Fe44xxVqUhmI",
        "colab_type": "code",
        "colab": {}
      },
      "source": [
        "X[-6]"
      ],
      "execution_count": 0,
      "outputs": []
    },
    {
      "cell_type": "code",
      "metadata": {
        "id": "obUjr_OxUhmK",
        "colab_type": "code",
        "colab": {}
      },
      "source": [
        "X[1:4]"
      ],
      "execution_count": 0,
      "outputs": []
    },
    {
      "cell_type": "code",
      "metadata": {
        "id": "d64gfNUIUhmO",
        "colab_type": "code",
        "colab": {}
      },
      "source": [
        "X[1:4]=\"AAA\""
      ],
      "execution_count": 0,
      "outputs": []
    },
    {
      "cell_type": "markdown",
      "metadata": {
        "id": "Aan4PahTUhmR",
        "colab_type": "text"
      },
      "source": [
        "### 格式化輸出\n",
        "\n",
        "參考：\n",
        "\n",
        "* [String Formatting Operations](https://docs.python.org/2/library/stdtypes.html#string-formatting)\n",
        "* [Common String Operations](https://docs.python.org/3/library/string.html)\n",
        "* [Tutorialspoint - Python Strings](https://www.tutorialspoint.com/python/python_strings.htm)"
      ]
    },
    {
      "cell_type": "markdown",
      "metadata": {
        "id": "JZ8j8vp5UhmS",
        "colab_type": "text"
      },
      "source": [
        "### 傳統作法 - 01"
      ]
    },
    {
      "cell_type": "code",
      "metadata": {
        "id": "N-utLc-VUhmW",
        "colab_type": "code",
        "colab": {}
      },
      "source": [
        "A = 'Victor'\n",
        "B = 10\n",
        "C = 3.14159"
      ],
      "execution_count": 0,
      "outputs": []
    },
    {
      "cell_type": "code",
      "metadata": {
        "id": "OHzBqVq1Uhmf",
        "colab_type": "code",
        "colab": {}
      },
      "source": [
        "print('A=' + A + ': B=' + str(B) + '; C=' + str(C))"
      ],
      "execution_count": 0,
      "outputs": []
    },
    {
      "cell_type": "markdown",
      "metadata": {
        "id": "VbniJHrlUhmn",
        "colab_type": "text"
      },
      "source": [
        "### 傳統作法 - 02"
      ]
    },
    {
      "cell_type": "code",
      "metadata": {
        "id": "Zh8_B3wtUhmn",
        "colab_type": "code",
        "colab": {}
      },
      "source": [
        "print('A=%s: B=%d; C=%d' % (A, B, C))\n",
        "print('A=%s: B=%d; C=%f' % (A, B, C))\n",
        "print('A=%s: B=%d; C=%3.5f' % (A, B, C))"
      ],
      "execution_count": 0,
      "outputs": []
    },
    {
      "cell_type": "markdown",
      "metadata": {
        "id": "6E9UFge2Uhmp",
        "colab_type": "text"
      },
      "source": [
        "### 建議做法"
      ]
    },
    {
      "cell_type": "code",
      "metadata": {
        "id": "OoikCFUXUhmq",
        "colab_type": "code",
        "colab": {}
      },
      "source": [
        "print('A={0}: B={1}; C={2}'.format(A, B, C))\n",
        "print('A={}: B={}; C={}'.format(A, B, C))\n",
        "print('A={X}: B={Y}; C={Z}'.format(X=A, Y=B, Z=C))\n",
        "print('A={X}: B={Y}; C={Z}'.format(X=A, Y=C, Z=B))\n",
        "print('A={}: B={}; C={:.2f}'.format(A, B, C))"
      ],
      "execution_count": 0,
      "outputs": []
    },
    {
      "cell_type": "code",
      "metadata": {
        "id": "u-ZeGYnyUhms",
        "colab_type": "code",
        "colab": {}
      },
      "source": [
        "print(\"{0}, {1}, {0}\".format(123, \"abc\"))"
      ],
      "execution_count": 0,
      "outputs": []
    },
    {
      "cell_type": "markdown",
      "metadata": {
        "id": "sDXM5pF0Uhmu",
        "colab_type": "text"
      },
      "source": [
        "### 常用的字串方法"
      ]
    },
    {
      "cell_type": "code",
      "metadata": {
        "id": "QgQ1KS76Uhmu",
        "colab_type": "code",
        "colab": {}
      },
      "source": [
        "s = \"   abc   \"\n",
        "s = s.strip()"
      ],
      "execution_count": 0,
      "outputs": []
    },
    {
      "cell_type": "code",
      "metadata": {
        "id": "rms5DVMKUhmx",
        "colab_type": "code",
        "colab": {}
      },
      "source": [
        "s"
      ],
      "execution_count": 0,
      "outputs": []
    },
    {
      "cell_type": "code",
      "metadata": {
        "id": "s6g_0REKUhm2",
        "colab_type": "code",
        "colab": {}
      },
      "source": [
        "s.upper()"
      ],
      "execution_count": 0,
      "outputs": []
    },
    {
      "cell_type": "code",
      "metadata": {
        "id": "A8eVrJL-Uhm6",
        "colab_type": "code",
        "colab": {}
      },
      "source": [
        "## 字串分割\n",
        "sentence = 'It is raining cats and dogs'\n",
        "words = sentence.split()\n",
        "print(words)"
      ],
      "execution_count": 0,
      "outputs": []
    },
    {
      "cell_type": "markdown",
      "metadata": {
        "id": "vpNN1YaVUhm_",
        "colab_type": "text"
      },
      "source": [
        "---"
      ]
    },
    {
      "cell_type": "markdown",
      "metadata": {
        "id": "m6657pK2UhnT",
        "colab_type": "text"
      },
      "source": [
        "# 【進階教材】"
      ]
    },
    {
      "cell_type": "markdown",
      "metadata": {
        "id": "UMK8A5wcUhnW",
        "colab_type": "text"
      },
      "source": [
        "### 什麼是 Unicode？\n",
        "\n",
        "* [Wikipedia - Unicode](https://en.wikipedia.org/wiki/Unicode)"
      ]
    },
    {
      "cell_type": "markdown",
      "metadata": {
        "id": "-H_0auWMUhnX",
        "colab_type": "text"
      },
      "source": [
        "### 什麼是 Encode()？\n",
        "\n",
        "將字串轉換成特定格式(如UTF-8)的 bytes，以便於儲存或網路傳輸。 "
      ]
    },
    {
      "cell_type": "markdown",
      "metadata": {
        "id": "Dz6F-O2wUhna",
        "colab_type": "text"
      },
      "source": [
        "### 什麼是 Decode()？\n",
        "\n",
        "將特定格式的 bytes，轉換回字串以便於顯示。"
      ]
    },
    {
      "cell_type": "code",
      "metadata": {
        "id": "J7m1zAtSUhnb",
        "colab_type": "code",
        "colab": {}
      },
      "source": [
        "a = \"中文\"\n",
        "b = a.encode('utf-8')\n",
        "b"
      ],
      "execution_count": 0,
      "outputs": []
    },
    {
      "cell_type": "code",
      "metadata": {
        "id": "FywLhpCsUhne",
        "colab_type": "code",
        "colab": {}
      },
      "source": [
        "type(b)"
      ],
      "execution_count": 0,
      "outputs": []
    },
    {
      "cell_type": "code",
      "metadata": {
        "id": "1s8Fki4pUhnh",
        "colab_type": "code",
        "colab": {}
      },
      "source": [
        "b.decode('utf-8')"
      ],
      "execution_count": 0,
      "outputs": []
    },
    {
      "cell_type": "code",
      "metadata": {
        "id": "RL3OVOEpUhnm",
        "colab_type": "code",
        "outputId": "81dd06df-6e38-4604-9914-04e93e8e63fa",
        "colab": {
          "base_uri": "https://localhost:8080/",
          "height": 34
        }
      },
      "source": [
        "# 從字元找對應的 codepoint\n",
        "ord('中')"
      ],
      "execution_count": 0,
      "outputs": [
        {
          "output_type": "execute_result",
          "data": {
            "text/plain": [
              "20013"
            ]
          },
          "metadata": {
            "tags": []
          },
          "execution_count": 3
        }
      ]
    },
    {
      "cell_type": "code",
      "metadata": {
        "id": "3ocbzZ27Uhnp",
        "colab_type": "code",
        "outputId": "0c20a7e0-aeb9-4457-c0d6-7bc5f4bb07eb",
        "colab": {
          "base_uri": "https://localhost:8080/",
          "height": 34
        }
      },
      "source": [
        "# 從 codepoint 找回字元\n",
        "chr(20013)"
      ],
      "execution_count": 0,
      "outputs": [
        {
          "output_type": "execute_result",
          "data": {
            "text/plain": [
              "'中'"
            ]
          },
          "metadata": {
            "tags": []
          },
          "execution_count": 2
        }
      ]
    },
    {
      "cell_type": "code",
      "metadata": {
        "id": "eJSMNPvbUhnu",
        "colab_type": "code",
        "outputId": "cb0eb53d-2a9c-403d-e49a-17d7403925ba",
        "colab": {
          "base_uri": "https://localhost:8080/",
          "height": 34
        }
      },
      "source": [
        "hex(ord('中'))"
      ],
      "execution_count": 0,
      "outputs": [
        {
          "output_type": "execute_result",
          "data": {
            "text/plain": [
              "'0x4e2d'"
            ]
          },
          "metadata": {
            "tags": []
          },
          "execution_count": 4
        }
      ]
    }
  ]
}