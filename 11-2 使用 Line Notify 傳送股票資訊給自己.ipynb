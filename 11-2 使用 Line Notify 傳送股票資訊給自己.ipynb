{
 "cells": [
  {
   "cell_type": "markdown",
   "metadata": {
    "colab_type": "text",
    "id": "8A2wLAS7zpU1"
   },
   "source": [
    "# 使用 Line Notify 傳送股票訊息給自己"
   ]
  },
  {
   "cell_type": "code",
   "execution_count": null,
   "metadata": {
    "colab": {},
    "colab_type": "code",
    "id": "YS4fa6mdteh8"
   },
   "outputs": [],
   "source": [
    "import pandas as pd\n",
    "import pandas_datareader.data as web\n",
    "import kchart\n",
    "from linenotify import Notify"
   ]
  },
  {
   "cell_type": "code",
   "execution_count": null,
   "metadata": {
    "colab": {},
    "colab_type": "code",
    "id": "aSq6JtnRtlWc"
   },
   "outputs": [],
   "source": [
    "df = web.DataReader(\"2330.tw\",\"yahoo\",\"2019-01-01\")\n",
    "\n",
    "df['20d'] = pd.Series.rolling(df['Adj Close'], window=20).mean()\n",
    "df['60d'] = pd.Series.rolling(df['Adj Close'], window=60).mean()"
   ]
  },
  {
   "cell_type": "code",
   "execution_count": null,
   "metadata": {
    "colab": {},
    "colab_type": "code",
    "id": "7SCEOlwkvR6R"
   },
   "outputs": [],
   "source": [
    "kchart.draw(df.tail(100), title='台積電', price=('20d', '60d'), colorup=\"r\", colordown=\"g\", figsize=(8,6), fontname=\"SourceHanSansTC-Regular.otf\", save=True)"
   ]
  },
  {
   "cell_type": "code",
   "execution_count": null,
   "metadata": {
    "colab": {},
    "colab_type": "code",
    "id": "IpKz0-VPwXwD"
   },
   "outputs": [],
   "source": [
    "token = \"\""
   ]
  },
  {
   "cell_type": "code",
   "execution_count": null,
   "metadata": {
    "colab": {},
    "colab_type": "code",
    "id": "OJouEHSpwZIM"
   },
   "outputs": [],
   "source": [
    "Notify(token, img=\"台積電.png\")"
   ]
  }
 ],
 "metadata": {
  "colab": {
   "collapsed_sections": [],
   "name": "11-2 使用 Line Notify 傳送股票資訊給自己.ipynb",
   "provenance": []
  },
  "kernelspec": {
   "display_name": "Python 3",
   "language": "python",
   "name": "python3"
  },
  "language_info": {
   "codemirror_mode": {
    "name": "ipython",
    "version": 3
   },
   "file_extension": ".py",
   "mimetype": "text/x-python",
   "name": "python",
   "nbconvert_exporter": "python",
   "pygments_lexer": "ipython3",
   "version": "3.7.1"
  }
 },
 "nbformat": 4,
 "nbformat_minor": 2
}
